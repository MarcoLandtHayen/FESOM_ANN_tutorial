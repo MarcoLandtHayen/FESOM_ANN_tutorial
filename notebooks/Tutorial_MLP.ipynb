{
 "cells": [
  {
   "cell_type": "code",
   "execution_count": 76,
   "id": "e6578131",
   "metadata": {},
   "outputs": [],
   "source": [
    "# Import libraries:\n",
    "import numpy as np\n",
    "import xarray as xr\n",
    "from matplotlib import pyplot as plt\n",
    "from pathlib import Path"
   ]
  },
  {
   "cell_type": "code",
   "execution_count": 10,
   "id": "3eaa07d0",
   "metadata": {},
   "outputs": [],
   "source": [
    "# Set relative path to data:\n",
    "path_to_data = '../data'"
   ]
  },
  {
   "cell_type": "markdown",
   "id": "ee861294",
   "metadata": {},
   "source": [
    "### Load data\n",
    "\n",
    "We have simulated temperatur fluxes from a coarse grained simulation with $40km$ resolution. Data is provided on a FESOM grid. Furthermore, we have simulated temperatur fluxes from a fine grained simulation with $10km$ resolution as ground truth data. This ground truth data can be aggregated to a $40km$ resolution as a third data set, which still contains effects from the fine grained simulation and thus, carries more information compared to the raw coarse grained simulation.\n",
    "\n",
    "As target, we aim to infer these aggregated temperature fluxes on a $40km$ resolution.\n",
    "\n",
    "In a first step, we plan to use Rossby radius $R_D$, buoyancy frequency $N^2$ and isopycnal slopes $S_x$ and $S_y$ as input parameters. Additionally, we intend to use simulated temperatur fluxes $u'T'$ and $v'T'$ from the raw coarse grained simulation with $40km$ resolution as input.\n",
    "\n",
    "**Note:** So far, we don't have all data, yet. Until we have the final data, we need to work with dummy data in this tutorial. This means, we only have certain parameters and work with an extract in time and only consider a limited number of vertical levels, for illustration purposes."
   ]
  },
  {
   "cell_type": "code",
   "execution_count": 37,
   "id": "b442784c",
   "metadata": {},
   "outputs": [
    {
     "name": "stdout",
     "output_type": "stream",
     "text": [
      "slope_x shape (variables, timesteps, vert. levels, nodes):  (1, 50, 3, 11450)\n",
      "slope_y shape (variables, timesteps, vert. levels, nodes):  (1, 50, 3, 11450)\n",
      "flux_u shape (variables, timesteps, vert. levels, nodes):  (1, 50, 3, 11450)\n",
      "flux_v shape (variables, timesteps, vert. levels, nodes):  (1, 50, 3, 11450)\n"
     ]
    }
   ],
   "source": [
    "## Load dummy data and convert to DataArray:\n",
    "\n",
    "# Slopes S_x and S_y, used as input data:\n",
    "slope_x = xr.open_dataset(Path(path_to_data + '/input_slope_x.nc')).to_array()\n",
    "slope_y = xr.open_dataset(Path(path_to_data + '/input_slope_y.nc')).to_array()\n",
    "\n",
    "# Temperatur flux u*T in x- and y- direction, referred to as flux_u and and flux_y, respectively, used as targets:\n",
    "flux_u = xr.open_dataset(Path(path_to_data + '/output_uflux.nc')).to_array()\n",
    "flux_v = xr.open_dataset(Path(path_to_data + '/output_vflux.nc')).to_array()\n",
    "\n",
    "# Check dimensions:\n",
    "print('slope_x shape (variables, timesteps, vert. levels, nodes): ',slope_x.shape)\n",
    "print('slope_y shape (variables, timesteps, vert. levels, nodes): ',slope_y.shape)\n",
    "print('flux_u shape (variables, timesteps, vert. levels, nodes): ',flux_u.shape)\n",
    "print('flux_v shape (variables, timesteps, vert. levels, nodes): ',flux_v.shape)"
   ]
  },
  {
   "cell_type": "markdown",
   "id": "bad5aa33",
   "metadata": {},
   "source": [
    "### Preprocess data\n",
    "\n",
    "This block serves as a placeholder. Until we have the final data, we skip parts of the preprocessing. In particular, we do not care about normalization and/or scaling of input and target data.\n",
    "\n",
    "In the first step, we only have isopycnal slopes in x- and y-direction ($S_x$ and $S_y$) as input data to predict temperature fluxes $u'T'$ and $v'T'$. Thus, we have two input and two output channels (or \"features\").\n",
    "\n",
    "As baseline, we set up a number of multilayer perceptron (MLP) models, one model for each vertical level.\n",
    "And to keep it as simple as possible, we have a one-to-one relation for each grid point at a certain timestep. In other words, to predict temperature fluxes for a certain grid point and timestep, we restrict ourselves to only use input information for that specific grid point at that specific timestep. (As an extension, we may allow spatially neighboring grid points' information to be involved as additional input information and/or consider current ($t=0$) plus a certain number $N$ of past timesteps ($t<0$) to improve our prediction.)\n",
    "\n",
    "In this baseline szenario with a one-to-one relation, each grid point can be treated as an individual sample and we can flatten the time dimension. This gives us $50 \\cdot 11450$ (= number of timesteps times number of grid points) input samples for each of the $3$ vertical levels. \n",
    "\n",
    "Usually, the input data is split into training, validation and test data. Training data serves for training the model. Validation data is needed for tuning any hyperparameters. Ultimately, test data is only used for model evaluation. For simplicity, we use 30 / 10 / 10 timesteps for training / validation / test data."
   ]
  },
  {
   "cell_type": "code",
   "execution_count": 75,
   "id": "17bd4df5",
   "metadata": {},
   "outputs": [
    {
     "name": "stdout",
     "output_type": "stream",
     "text": [
      "Input data\n",
      "==========\n",
      "train_input shape (number of samples, number of input features): (343500, 2)\n",
      "val_input shape (number of samples, number of input features): (114500, 2)\n",
      "test_input shape (number of samples, number of input features): (114500, 2)\n",
      "\n",
      "Target data\n",
      "===========\n",
      "train_target shape (number of samples, number of input features): (343500, 2)\n",
      "val_target shape (number of samples, number of input features): (114500, 2)\n",
      "test_target shape (number of samples, number of input features): (114500, 2)\n"
     ]
    }
   ],
   "source": [
    "## Prepare training, validation and test data for inputs and targets:\n",
    "\n",
    "# As an example, extract data for the first vertical level (v1):\n",
    "slope_x_v1 = slope_x[:,:,0,:]\n",
    "slope_y_v1 = slope_y[:,:,0,:]\n",
    "flux_u_v1 = flux_u[:,:,0,:]\n",
    "flux_v_v1 = flux_v[:,:,0,:]\n",
    "\n",
    "# Concatenate inputs and targets, to have two channels, each:\n",
    "input_v1_concat = np.concatenate([slope_x_v1,slope_y_v1], axis=0)\n",
    "target_v1_concat = np.concatenate([flux_u_v1,flux_v_v1], axis=0)\n",
    "\n",
    "# Split inputs and targets into training, validation and test sets:\n",
    "train_input_v1_concat = input_v1_concat[:,:30,:]\n",
    "val_input_v1_concat = input_v1_concat[:,30:40,:]\n",
    "test_input_v1_concat = input_v1_concat[:,40:,:]\n",
    "train_target_v1_concat = target_v1_concat[:,:30,:]\n",
    "val_target_v1_concat = target_v1_concat[:,30:40,:]\n",
    "test_target_v1_concat = target_v1_concat[:,40:,:]\n",
    "\n",
    "# Flatten number of timesteps and number of gridpoints by reshaping. \n",
    "# Only keep the number of channels as first dimension:\n",
    "train_input_v1_concat_flat = np.reshape(train_input_v1_concat,([train_input_v1_concat.shape[0],-1]))\n",
    "val_input_v1_concat_flat = np.reshape(val_input_v1_concat,([val_input_v1_concat.shape[0],-1]))\n",
    "test_input_v1_concat_flat = np.reshape(test_input_v1_concat,([test_input_v1_concat.shape[0],-1]))\n",
    "train_target_v1_concat_flat = np.reshape(train_target_v1_concat,([train_target_v1_concat.shape[0],-1]))\n",
    "val_target_v1_concat_flat = np.reshape(val_target_v1_concat,([val_target_v1_concat.shape[0],-1]))\n",
    "test_target_v1_concat_flat = np.reshape(test_target_v1_concat,([test_target_v1_concat.shape[0],-1]))\n",
    "\n",
    "# Ultimately, swap dimensions, to have [number of samples, number of features]:\n",
    "train_input = np.swapaxes(train_input_v1_concat_flat,0,1)\n",
    "val_input = np.swapaxes(val_input_v1_concat_flat,0,1)\n",
    "test_input = np.swapaxes(test_input_v1_concat_flat,0,1)\n",
    "train_target = np.swapaxes(train_target_v1_concat_flat,0,1)\n",
    "val_target = np.swapaxes(val_target_v1_concat_flat,0,1)\n",
    "test_target = np.swapaxes(test_target_v1_concat_flat,0,1)\n",
    "\n",
    "## Check dimensions:\n",
    "\n",
    "# Input data:\n",
    "print('Input data')\n",
    "print('==========')\n",
    "print('train_input shape (number of samples, number of input features):', train_input.shape)\n",
    "print('val_input shape (number of samples, number of input features):', val_input.shape)\n",
    "print('test_input shape (number of samples, number of input features):', test_input.shape)\n",
    "print('\\nTarget data')\n",
    "print('===========')\n",
    "print('train_target shape (number of samples, number of input features):', train_target.shape)\n",
    "print('val_target shape (number of samples, number of input features):', val_target.shape)\n",
    "print('test_target shape (number of samples, number of input features):', test_target.shape)"
   ]
  },
  {
   "cell_type": "markdown",
   "id": "52c235cd",
   "metadata": {},
   "source": [
    "### Model setup: Multilayer perceptron\n",
    "\n",
    "Now we got the input an target data in the correct shape for setting up our first multilayer perceptron (MLP). Keep in mind, here, we focus on data for the first vertical level (v1), as an example."
   ]
  },
  {
   "cell_type": "code",
   "execution_count": 77,
   "id": "dff5bda0",
   "metadata": {},
   "outputs": [],
   "source": [
    "# Import libraries:\n",
    "import tensorflow as tf\n",
    "from tensorflow.keras import Sequential\n",
    "from tensorflow.keras.models import Model\n",
    "from tensorflow.keras.layers import (\n",
    "    Input,\n",
    "    Dense,\n",
    "    LSTM,\n",
    "    Conv1D,\n",
    "    MaxPooling1D,\n",
    "    Dropout,\n",
    "    Flatten,\n",
    "    BatchNormalization,\n",
    "    LeakyReLU,\n",
    "    concatenate,\n",
    ")\n",
    "from tensorflow.keras.optimizers import (\n",
    "    SGD,\n",
    "    Adam,\n",
    ")\n",
    "import tensorflow.keras.initializers as tfi\n",
    "import tensorflow.keras.regularizers as tfr\n",
    "from tensorflow.keras.utils import plot_model\n",
    "from tensorflow.keras import backend as Kl\n",
    "\n",
    "# Suppress Tensorflow warnings\n",
    "tf.compat.v1.logging.set_verbosity(tf.compat.v1.logging.ERROR)"
   ]
  },
  {
   "cell_type": "code",
   "execution_count": 78,
   "id": "1f44e3ab",
   "metadata": {},
   "outputs": [
    {
     "name": "stdout",
     "output_type": "stream",
     "text": [
      "Model: \"MLP\"\n",
      "_________________________________________________________________\n",
      "Layer (type)                 Output Shape              Param #   \n",
      "=================================================================\n",
      "input_1 (InputLayer)         [(None, 2)]               0         \n",
      "_________________________________________________________________\n",
      "dense (Dense)                (None, 20)                60        \n",
      "_________________________________________________________________\n",
      "dense_1 (Dense)              (None, 10)                210       \n",
      "_________________________________________________________________\n",
      "dense_2 (Dense)              (None, 1)                 11        \n",
      "=================================================================\n",
      "Total params: 281\n",
      "Trainable params: 281\n",
      "Non-trainable params: 0\n",
      "_________________________________________________________________\n"
     ]
    },
    {
     "name": "stderr",
     "output_type": "stream",
     "text": [
      "2023-09-29 12:03:03.207622: I tensorflow/core/platform/cpu_feature_guard.cc:142] This TensorFlow binary is optimized with oneAPI Deep Neural Network Library (oneDNN) to use the following CPU instructions in performance-critical operations:  SSE4.1 SSE4.2\n",
      "To enable them in other operations, rebuild TensorFlow with the appropriate compiler flags.\n"
     ]
    }
   ],
   "source": [
    "## Prepare MLP:\n",
    "\n",
    "# Set some parameters upfront:\n",
    "lr = 0.0005 # Learning rate\n",
    "epc = 10 # Number of epochs\n",
    "batch_size = 10 # Batch size\n",
    "in_features = train_input.shape[1] # Number of input features\n",
    "out_features = train_target.shape[1] # Number of output features\n",
    "\n",
    "# Optionally use L1 and/or L2 regularization to drive small weights to zero or penalize large weights:\n",
    "kernel_reg_Dense=tfr.l1_l2(l1=0, l2=0)\n",
    "\n",
    "## Set up MLP - layer by layer: (Another way is to set up a \"sequential model\", which I can show you later!)\n",
    "\n",
    "# Input layer, the input shape is determined by the number of input features:\n",
    "inputs = Input(shape=(in_features))\n",
    "\n",
    "# First hidden layer with 20 neurons and a linear activation function is connected to the input layer:\n",
    "hidden_1 = Dense(20, activation='linear', kernel_regularizer=kernel_reg_Dense)(inputs)\n",
    "\n",
    "# Second hidden layer with 10 neurons and a linear activation function is connected to the first hidden layer:\n",
    "hidden_2 = Dense(10, activation='linear', kernel_regularizer=kernel_reg_Dense)(hidden_1)\n",
    "\n",
    "# Finally, we have an output layer, connected to the second hidden layer, \n",
    "# to predict the desired number of output features:\n",
    "output = Dense(1, activation='linear')(hidden_2)\n",
    "\n",
    "## Define and compile model:\n",
    "\n",
    "# Formally set up the model, starting with the defined input layer, ending with the defined output layer:\n",
    "model_MLP = Model(inputs, output, name='MLP')\n",
    "\n",
    "# For training the weights and biases, we use a so-called optimizer. Here we use the Adam optimizer, \n",
    "# which is an often used optimizer, related to stochastic gradient descent learning.\n",
    "# The optimizer needs the learning rate as parameter, determining how fast the weights and biases are adjusted\n",
    "# in the learning process. The learning rate is one of the hyper-parameters, that need to be tuned later.\n",
    "opt = Adam(lr=lr) #SGD(lr=lr)\n",
    "\n",
    "# Compiling the model means, choosing a loss function (here: mean squared error mse), \n",
    "# connecting the optimizer to the model and choosing a number of evaluation metrics. \n",
    "# Here, we don't have any additional metrics, yet. We are only interested in the mse loss.\n",
    "model_MLP.compile(loss='mse', optimizer=opt, metrics=[])\n",
    "\n",
    "# Get a model summary, including the number of trainable parameters:\n",
    "model_MLP.summary()"
   ]
  },
  {
   "cell_type": "code",
   "execution_count": 80,
   "id": "3121f3ec",
   "metadata": {},
   "outputs": [
    {
     "name": "stdout",
     "output_type": "stream",
     "text": [
      "Epoch 1/10\n",
      "34350/34350 [==============================] - 12s 358us/step - loss: 0.0350 - val_loss: 0.0199\n",
      "Epoch 2/10\n",
      "34350/34350 [==============================] - 12s 361us/step - loss: 0.0350 - val_loss: 0.0200 - loss: 0.035 - ETA: 6s - loss: 0.03  - E  - ET - ETA: 0s - los\n",
      "Epoch 3/10\n",
      "34350/34350 [==============================] - 12s 362us/step - loss: 0.0350 - val_loss: 0.0199\n",
      "Epoch 4/10\n",
      "34350/34350 [==============================] - 12s 362us/step - loss: 0.0350 - val_loss: 0.0200ETA: 2s -  - ETA: - ETA: - ETA: 0s - loss: 0.\n",
      "Epoch 5/10\n",
      "34350/34350 [==============================] - 12s 363us/step - loss: 0.0350 - val_loss: 0.0199 loss: 0.0 - ETA: 5s - loss: 0 - ETA: 4s - lo - ETA: 4s - loss: 0.0 - ETA: 4s - lo\n",
      "Epoch 6/10\n",
      "34350/34350 [==============================] - 13s 366us/step - loss: 0.0350 - val_loss: 0.0199\n",
      "Epoch 7/10\n",
      "34350/34350 [==============================] - 13s 386us/step - loss: 0.0350 - val_loss: 0.0200\n",
      "Epoch 8/10\n",
      "34350/34350 [==============================] - 15s 436us/step - loss: 0.0350 - val_loss: 0.0199\n",
      "Epoch 9/10\n",
      "34350/34350 [==============================] - 13s 388us/step - loss: 0.0350 - val_loss: 0.0200\n",
      "Epoch 10/10\n",
      "34350/34350 [==============================] - 13s 389us/step - loss: 0.0350 - val_loss: 0.0199\n"
     ]
    }
   ],
   "source": [
    "# Train model on data for vertical level v1. Therefore, we specify which data shall be used for training and\n",
    "# validation. We set the number of training epochs and the batch size.\n",
    "# And the data is shuffled after each training epoch (shuffle=True).\n",
    "history = model_MLP.fit(train_input, train_target, epochs=epc, verbose=1, shuffle=True,\n",
    "                        batch_size=batch_size, validation_data=(val_input, val_target))"
   ]
  },
  {
   "cell_type": "code",
   "execution_count": 82,
   "id": "7f9eee4b",
   "metadata": {},
   "outputs": [
    {
     "data": {
      "image/png": "[encoded data removed]",
      "text/plain": [
       "<Figure size 936x576 with 1 Axes>"
      ]
     },
     "metadata": {
      "needs_background": "light"
     },
     "output_type": "display_data"
    }
   ],
   "source": [
    "# Plot loss (mse) on train and validation data:\n",
    "fig, axes = plt.subplots(1, 1, figsize=(13,8))\n",
    "axes.set_title(\"Evaluate training process: Loss (mse) on training and validation data\", fontsize=16)\n",
    "axes.plot(history.history['loss'], label='train loss'), \n",
    "axes.plot(history.history['val_loss'], label='validation loss')\n",
    "axes.set_ylabel(\"loss (mse)\", fontsize=16)\n",
    "axes.legend()\n",
    "plt.show()\n"
   ]
  },
  {
   "cell_type": "code",
   "execution_count": null,
   "id": "dabd7915",
   "metadata": {},
   "outputs": [],
   "source": [
    "# Get model predictions on training, validation and test data from trained model:\n",
    "train_pred = model_MLP.predict(train_input)\n",
    "val_pred = model_MLP.predict(val_input)\n",
    "test_pred = model_MLP.predict(test_input)"
   ]
  },
  {
   "cell_type": "markdown",
   "id": "716aa407",
   "metadata": {},
   "source": [
    "### Discussion on baseline MLP model on dummy data\n",
    "\n",
    "This tutorial shows first steps for setting up a basic multilayer perceptron.\n",
    "The loss curves appear to be just flat. This tells us, that there is no real training progress.\n",
    "\n",
    "--> We need to wait for the final data :-)"
   ]
  },
  {
   "cell_type": "code",
   "execution_count": null,
   "id": "3c616ebb",
   "metadata": {},
   "outputs": [],
   "source": []
  }
 ],
 "metadata": {
  "kernelspec": {
   "display_name": "Python 3 (ipykernel)",
   "language": "python",
   "name": "python3"
  },
  "language_info": {
   "codemirror_mode": {
    "name": "ipython",
    "version": 3
   },
   "file_extension": ".py",
   "mimetype": "text/x-python",
   "name": "python",
   "nbconvert_exporter": "python",
   "pygments_lexer": "ipython3",
   "version": "3.9.9"
  }
 },
 "nbformat": 4,
 "nbformat_minor": 5
}
